{
 "cells": [
  {
   "cell_type": "code",
   "execution_count": 1,
   "id": "7e10a0de",
   "metadata": {},
   "outputs": [],
   "source": [
    "import tensorflow as tf\n",
    "import pandas as pd\n",
    "from tensorflow.keras.datasets import cifar10 "
   ]
  },
  {
   "cell_type": "code",
   "execution_count": 2,
   "id": "853471db",
   "metadata": {},
   "outputs": [],
   "source": [
    "import tensorflow.keras as K"
   ]
  },
  {
   "cell_type": "code",
   "execution_count": 3,
   "id": "ef7338e4",
   "metadata": {},
   "outputs": [],
   "source": [
    "from keras.applications.vgg16 import VGG16"
   ]
  },
  {
   "cell_type": "code",
   "execution_count": 4,
   "id": "38bac6b7",
   "metadata": {},
   "outputs": [],
   "source": [
    "from keras.utils import np_utils "
   ]
  },
  {
   "cell_type": "code",
   "execution_count": 5,
   "id": "ff73aff1",
   "metadata": {},
   "outputs": [],
   "source": [
    "def preprocess_data(X, Y):\n",
    "        \"\"\" This method has the preprocess to train a model \"\"\"\n",
    "        X = X.astype('float32')\n",
    "        X_p = K.applications.vgg16.preprocess_input(X)\n",
    "        Y_p = K.utils.to_categorical(Y, 10)\n",
    "        return(X_p, Y_p)"
   ]
  },
  {
   "cell_type": "code",
   "execution_count": 6,
   "id": "09d36fab",
   "metadata": {},
   "outputs": [],
   "source": [
    "(Xt, Yt), (X, Y) = cifar10.load_data()"
   ]
  },
  {
   "cell_type": "code",
   "execution_count": 7,
   "id": "44e1a5d4",
   "metadata": {},
   "outputs": [],
   "source": [
    "X_p, Y_p = preprocess_data(Xt, Yt)\n",
    "Xv_p, Yv_p = preprocess_data(X, Y)"
   ]
  },
  {
   "cell_type": "code",
   "execution_count": 8,
   "id": "49d0e0b8",
   "metadata": {},
   "outputs": [],
   "source": [
    "base_model = VGG16(include_top=False,weights='imagenet',pooling='avg')\n"
   ]
  },
  {
   "cell_type": "code",
   "execution_count": 9,
   "id": "b409020a",
   "metadata": {},
   "outputs": [],
   "source": [
    "from keras.models import Sequential, Model\n",
    "from keras.layers import Conv2D, MaxPool2D, Flatten, Dense, GlobalAveragePooling2D, Dropout, BatchNormalization, Input,UpSampling2D"
   ]
  },
  {
   "cell_type": "code",
   "execution_count": 10,
   "id": "a84ccee6",
   "metadata": {},
   "outputs": [],
   "source": [
    "model3= Sequential()\n",
    "model3.add(UpSampling2D())\n",
    "model3.add(base_model)\n",
    "model3.add(Flatten())\n",
    "model3.add(Dense(512, activation=('relu'))) \n",
    "model3.add(Dropout(0.2))\n",
    "model3.add(Dense(256, activation=('relu')))\n",
    "model3.add(Dropout(0.2))\n",
    "model3.add(Dense(10, activation=('softmax')))"
   ]
  },
  {
   "cell_type": "code",
   "execution_count": 12,
   "id": "bfb9e8bb",
   "metadata": {},
   "outputs": [
    {
     "data": {
      "text/plain": [
       "<bound method Model.summary of <keras.engine.sequential.Sequential object at 0x000001E368AC2F70>>"
      ]
     },
     "execution_count": 12,
     "metadata": {},
     "output_type": "execute_result"
    }
   ],
   "source": [
    "model3.summary"
   ]
  },
  {
   "cell_type": "code",
   "execution_count": 13,
   "id": "47126b40",
   "metadata": {},
   "outputs": [],
   "source": [
    "from keras.callbacks import ModelCheckpoint, EarlyStopping"
   ]
  },
  {
   "cell_type": "code",
   "execution_count": 15,
   "id": "a7124cff",
   "metadata": {},
   "outputs": [],
   "source": [
    "checkpoint = ModelCheckpoint(\"vgg16_1.h5\", monitor='val_acc', verbose=1, save_best_only=True, save_weights_only=False, mode='auto')\n",
    "early = EarlyStopping(monitor='val_acc', min_delta=0, patience=20, verbose=1, mode='auto')"
   ]
  },
  {
   "cell_type": "code",
   "execution_count": null,
   "id": "7cfffbd0",
   "metadata": {},
   "outputs": [],
   "source": [
    "''''\n",
    "ModelCheckpoint helps us to save the model by monitoring a specific parameter of the model. In this case I am monitoring \n",
    "validation accuracy by passing val_acc to ModelCheckpoint. The model will only be saved to disk if the validation accuracy \n",
    "of the model in current epoch is greater than what it was in the last epoch."
   ]
  },
  {
   "cell_type": "code",
   "execution_count": 16,
   "id": "71573b64",
   "metadata": {},
   "outputs": [],
   "source": [
    " model3.compile(optimizer='adam', loss='categorical_crossentropy',metrics=['accuracy'])"
   ]
  },
  {
   "cell_type": "code",
   "execution_count": null,
   "id": "fe51eef5",
   "metadata": {},
   "outputs": [
    {
     "name": "stdout",
     "output_type": "stream",
     "text": [
      "Epoch 1/10\n",
      "  7/391 [..............................] - ETA: 58:05 - loss: 7.0288 - accuracy: 0.0826"
     ]
    }
   ],
   "source": [
    "model3.fit(x=X_p, y=Y_p,\n",
    "              batch_size=128,\n",
    "              validation_data=(Xv_p, Yv_p),\n",
    "              epochs=10, shuffle=True,\n",
    "              callbacks=[checkpoint,early],\n",
    "              verbose=1\n",
    "              )"
   ]
  },
  {
   "cell_type": "code",
   "execution_count": null,
   "id": "6a5181f8",
   "metadata": {},
   "outputs": [],
   "source": []
  }
 ],
 "metadata": {
  "kernelspec": {
   "display_name": "Python 3 (ipykernel)",
   "language": "python",
   "name": "python3"
  },
  "language_info": {
   "codemirror_mode": {
    "name": "ipython",
    "version": 3
   },
   "file_extension": ".py",
   "mimetype": "text/x-python",
   "name": "python",
   "nbconvert_exporter": "python",
   "pygments_lexer": "ipython3",
   "version": "3.9.7"
  }
 },
 "nbformat": 4,
 "nbformat_minor": 5
}
